{
 "cells": [
  {
   "cell_type": "code",
   "execution_count": null,
   "metadata": {
    "vscode": {
     "languageId": "plaintext"
    }
   },
   "outputs": [],
   "source": [
    "import os\n",
    "import numpy as np\n",
    "import cv2\n",
    "from sklearn.model_selection import train_test_split\n",
    "import pickle"
   ]
  },
  {
   "cell_type": "code",
   "execution_count": null,
   "metadata": {
    "vscode": {
     "languageId": "plaintext"
    }
   },
   "outputs": [],
   "source": [
    "def load_images_from_folder(folder):\n",
    "    images, labels = [], []\n",
    "    for class_id in os.listdir(folder):\n",
    "        class_path = os.path.join(folder, class_id)\n",
    "        if os.path.isdir(class_path):\n",
    "            for img_name in os.listdir(class_path):\n",
    "                img_path = os.path.join(class_path, img_name)\n",
    "                img = cv2.imread(img_path)\n",
    "                img = cv2.resize(img, (32, 32))\n",
    "                images.append(img)\n",
    "                labels.append(int(class_id))\n",
    "    return np.array(images), np.array(labels)\n",
    "\n",
    "\n"
   ]
  },
  {
   "cell_type": "code",
   "execution_count": null,
   "metadata": {
    "vscode": {
     "languageId": "plaintext"
    }
   },
   "outputs": [],
   "source": [
    "# Load data\n",
    "data_folder = 'GTSRB/Final_Training/Images'\n",
    "X, y = load_images_from_folder(data_folder)\n",
    "\n",
    "# Split into training and validation sets\n",
    "X_train, X_valid, y_train, y_valid = train_test_split(X, y, test_size=0.2, random_state=42)\n",
    "\n",
    "# Prepare test data (refer to the official CSV provided by the dataset authors)\n",
    "test_folder = 'GTSRB/Final_Test/Images'\n",
    "X_test, y_test = [], []  # Populate from the official CSV file provided by dataset source.\n",
    "\n",
    "# Save data as pickle files\n",
    "with open('train.p', 'wb') as f:\n",
    "    pickle.dump({'features': X_train, 'labels': y_train}, f)\n",
    "    \n",
    "with open('valid.p', 'wb') as f:\n",
    "    pickle.dump({'features': X_valid, 'labels': y_valid}, f)\n",
    "\n",
    "with open('test.p', 'wb') as f:\n",
    "    pickle.dump({'features': X_test, 'labels': y_test}, f)"
   ]
  }
 ],
 "metadata": {
  "kernelspec": {
   "display_name": "Python 3",
   "language": "python",
   "name": "python3"
  },
  "language_info": {
   "codemirror_mode": {
    "name": "ipython",
    "version": 3
   },
   "file_extension": ".py",
   "mimetype": "text/x-python",
   "name": "python",
   "nbconvert_exporter": "python",
   "pygments_lexer": "ipython3",
   "version": "3.8.5"
  }
 },
 "nbformat": 4,
 "nbformat_minor": 2
}
